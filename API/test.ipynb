{
 "cells": [
  {
   "cell_type": "code",
   "execution_count": 2,
   "metadata": {},
   "outputs": [
    {
     "name": "stdout",
     "output_type": "stream",
     "text": [
      "{'prediction': 121.74196649005447}\n"
     ]
    }
   ],
   "source": [
    "import requests\n",
    "\n",
    "response = requests.post(\"https://get-around-api.herokuapp.com/predict\", json={\n",
    "  \"model_key\": \"Mercedes\",\n",
    "  \"mileage\": 181672,\n",
    "  \"engine_power\": 105,\n",
    "  \"fuel\": \"diesel\",\n",
    "  \"paint_color\": \"white\",\n",
    "  \"car_type\": \"hatchback\",\n",
    "  \"private_parking_available\": True,\n",
    "  \"has_gps\": True,\n",
    "  \"has_air_conditioning\": False,\n",
    "  \"automatic_car\": False,\n",
    "  \"has_getaround_connect\": True,\n",
    "  \"has_speed_regulator\": False,\n",
    "  \"winter_tires\": True\n",
    "})\n",
    "\n",
    "print(response.json())"
   ]
  },
  {
   "cell_type": "code",
   "execution_count": null,
   "metadata": {},
   "outputs": [],
   "source": []
  }
 ],
 "metadata": {
  "interpreter": {
   "hash": "c5e48f84046969b800ff52f6d80523bcd1ca3fb1a99f1449e4197bf6c73dc096"
  },
  "kernelspec": {
   "display_name": "Python 3.9.7 ('base')",
   "language": "python",
   "name": "python3"
  },
  "language_info": {
   "codemirror_mode": {
    "name": "ipython",
    "version": 3
   },
   "file_extension": ".py",
   "mimetype": "text/x-python",
   "name": "python",
   "nbconvert_exporter": "python",
   "pygments_lexer": "ipython3",
   "version": "3.9.7"
  },
  "orig_nbformat": 4
 },
 "nbformat": 4,
 "nbformat_minor": 2
}
